{
 "cells": [
  {
   "cell_type": "code",
   "execution_count": null,
   "id": "9a727ca2",
   "metadata": {},
   "outputs": [],
   "source": [
    "import matplotlib.pyplot as plt\n",
    "from PIL import Image\n",
    "fig = plt.figure()\n",
    "# 4 images are opened and stored in a list\n",
    "images = []\n",
    "images.append(Image.open(\"1.jpg\"))\n",
    "images.append(Image.open(\"2.jpg\"))\n",
    "images.append(Image.open(\"3.jpg\"))\n",
    "images.append(Image.open(\"4.jpg\"))\n",
    "\n",
    "#Create a new blank image\n",
    "new_image = Image.new('RGB', (600, 600))\n",
    "\n",
    "\n",
    "new_image.paste(images[0], (0, 0))\n",
    "new_image.paste(images[1], (300, 0))\n",
    "new_image.paste(images[2], (0, 300))\n",
    "new_image.paste(images[3], (300, 300))\n",
    "\n",
    "# 4 subplot\n",
    "fig, axs = plt.subplots(2, 2)\n",
    "axs[0, 0].imshow(images[0])\n",
    "axs[0, 1].imshow(images[1])\n",
    "axs[1, 0].imshow(images[2])\n",
    "axs[1, 1].imshow(images[3])\n",
    "\n",
    "# hide x and y axes in subplot\n",
    "for ax in axs.flat:\n",
    "    ax.set(xticks=[], yticks=[])\n",
    "\n",
    "# plot\n",
    "plt.show()\n",
    "fig.savefig('1+2+3+4.jpg', dpi=30000, bbox_inches='tight')"
   ]
  }
 ],
 "metadata": {
  "kernelspec": {
   "display_name": "Python 3 (ipykernel)",
   "language": "python",
   "name": "python3"
  },
  "language_info": {
   "codemirror_mode": {
    "name": "ipython",
    "version": 3
   },
   "file_extension": ".py",
   "mimetype": "text/x-python",
   "name": "python",
   "nbconvert_exporter": "python",
   "pygments_lexer": "ipython3",
   "version": "3.7.13"
  }
 },
 "nbformat": 4,
 "nbformat_minor": 5
}
