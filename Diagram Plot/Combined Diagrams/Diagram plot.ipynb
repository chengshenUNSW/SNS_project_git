{
 "cells": [
  {
   "cell_type": "code",
   "execution_count": 1,
   "id": "94b10797",
   "metadata": {},
   "outputs": [],
   "source": [
    "# from PIL import Image\n",
    "\n",
    "# # 打开4个图像\n",
    "# img1 = Image.open(\"1.jpg\")\n",
    "# img2 = Image.open(\"2.jpg\")\n",
    "# img3 = Image.open(\"3.jpg\")\n",
    "# img4 = Image.open(\"4.jpg\")\n",
    "\n",
    "# # 将4个图像合并为一个图像\n",
    "# new_image = Image.new('RGBA', (600, 600), (255, 255, 255, 255))\n",
    "# new_image.paste(img1, (0, 0))\n",
    "# new_image.paste(img2, (300, 0))\n",
    "# new_image.paste(img3, (0, 300))\n",
    "# new_image.paste(img4, (300, 300))\n",
    "\n",
    "# # 保存新图像\n",
    "# new_image.save(\"merged_image.png\")\n",
    "# new_image.show()"
   ]
  },
  {
   "cell_type": "code",
   "execution_count": null,
   "id": "9a727ca2",
   "metadata": {},
   "outputs": [],
   "source": [
    "import matplotlib.pyplot as plt\n",
    "from PIL import Image\n",
    "fig = plt.figure()\n",
    "# 打开4个图像并存储在列表中\n",
    "images = []\n",
    "images.append(Image.open(\"1.jpg\"))\n",
    "images.append(Image.open(\"2.jpg\"))\n",
    "images.append(Image.open(\"3.jpg\"))\n",
    "images.append(Image.open(\"4.jpg\"))\n",
    "\n",
    "# 创建一个新的空白图像，大小为600x600像素\n",
    "new_image = Image.new('RGB', (600, 600))\n",
    "\n",
    "# 将4个图像复制到新图像中\n",
    "new_image.paste(images[0], (0, 0))\n",
    "new_image.paste(images[1], (300, 0))\n",
    "new_image.paste(images[2], (0, 300))\n",
    "new_image.paste(images[3], (300, 300))\n",
    "\n",
    "# 创建一个2x2的subplot，并将4个图像放置在其中\n",
    "fig, axs = plt.subplots(2, 2)\n",
    "axs[0, 0].imshow(images[0])\n",
    "axs[0, 1].imshow(images[1])\n",
    "axs[1, 0].imshow(images[2])\n",
    "axs[1, 1].imshow(images[3])\n",
    "\n",
    "# 隐藏subplot中的x和y轴\n",
    "for ax in axs.flat:\n",
    "    ax.set(xticks=[], yticks=[])\n",
    "\n",
    "# 显示图像\n",
    "# plt.imshow(new_image)\n",
    "plt.show()\n",
    "fig.savefig('1+2+3+4.jpg', dpi=30000, bbox_inches='tight')"
   ]
  },
  {
   "cell_type": "code",
   "execution_count": null,
   "id": "ef07a54d",
   "metadata": {},
   "outputs": [],
   "source": [
    "from PIL import Image\n",
    "\n",
    "# 打开4个图像并存储在列表中\n",
    "images = []\n",
    "images.append(Image.open(\"1.jpg\"))\n",
    "images.append(Image.open(\"2.jpg\"))\n",
    "images.append(Image.open(\"3.jpg\"))\n",
    "images.append(Image.open(\"4.jpg\"))\n",
    "\n",
    "# 获取第一个图像的大小\n",
    "size = images[0].size\n",
    "\n",
    "# 创建一个新的空白图像，大小为600x600像素\n",
    "new_image = Image.new('RGB', (600, 600))\n",
    "\n",
    "# 将每个图像缩放到相同的大小并复制到新图像中\n",
    "for i in range(len(images)):\n",
    "    images[i] = images[i].resize(size)\n",
    "    new_image.paste(images[i], (i % 2 * size[0], i // 2 * size[1]))\n",
    "\n",
    "# 显示图像\n",
    "new_image.show()\n"
   ]
  },
  {
   "cell_type": "code",
   "execution_count": null,
   "id": "db4e5089",
   "metadata": {},
   "outputs": [],
   "source": []
  }
 ],
 "metadata": {
  "kernelspec": {
   "display_name": "Python 3 (ipykernel)",
   "language": "python",
   "name": "python3"
  },
  "language_info": {
   "codemirror_mode": {
    "name": "ipython",
    "version": 3
   },
   "file_extension": ".py",
   "mimetype": "text/x-python",
   "name": "python",
   "nbconvert_exporter": "python",
   "pygments_lexer": "ipython3",
   "version": "3.7.13"
  }
 },
 "nbformat": 4,
 "nbformat_minor": 5
}
